{
  "nbformat": 4,
  "nbformat_minor": 0,
  "metadata": {
    "colab": {
      "name": "App.ipynb",
      "version": "0.3.2",
      "provenance": [],
      "collapsed_sections": [],
      "include_colab_link": true
    },
    "kernelspec": {
      "name": "python3",
      "display_name": "Python 3"
    }
  },
  "cells": [
    {
      "cell_type": "markdown",
      "metadata": {
        "id": "view-in-github",
        "colab_type": "text"
      },
      "source": [
        "<a href=\"https://colab.research.google.com/github/DogChan/PythonTestGame/blob/master/App.ipynb\" target=\"_parent\"><img src=\"https://colab.research.google.com/assets/colab-badge.svg\" alt=\"Open In Colab\"/></a>"
      ]
    },
    {
      "metadata": {
        "id": "3Q22SCBpyxLQ",
        "colab_type": "code",
        "outputId": "7f1b3e60-6be0-4e00-96d4-4d3b8923e01c",
        "colab": {
          "base_uri": "https://localhost:8080/",
          "height": 129
        }
      },
      "cell_type": "code",
      "source": [
        "def select()\n",
        "  type = input(\"Chose your charecter \")\n",
        "  if type == \"wizard\"\n",
        "    \n",
        "  if type == \"hero\"\n",
        "    \n",
        "  if type == \"druid\"\n",
        "    \n",
        "  else\n",
        "    select()\n",
        "  \n",
        "print(\"Druid: A healer type that uses some ancient magic.\")\n",
        "print(\"Hero: A knight with strong armor and a lethal sword.\")\n",
        "print(\"Wizard: A mysterious being who attacks with various magical spells.\")\n",
        "select()"
      ],
      "execution_count": 1,
      "outputs": [
        {
          "output_type": "error",
          "ename": "SyntaxError",
          "evalue": "ignored",
          "traceback": [
            "\u001b[0;36m  File \u001b[0;32m\"<ipython-input-1-270f448b6ffc>\"\u001b[0;36m, line \u001b[0;32m1\u001b[0m\n\u001b[0;31m    def select()\u001b[0m\n\u001b[0m                ^\u001b[0m\n\u001b[0;31mSyntaxError\u001b[0m\u001b[0;31m:\u001b[0m invalid syntax\n"
          ]
        }
      ]
    }
  ]
}